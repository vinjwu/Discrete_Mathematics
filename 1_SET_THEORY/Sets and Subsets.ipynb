{
 "cells": [
  {
   "cell_type": "markdown",
   "id": "d59e1ab6",
   "metadata": {},
   "source": [
    "$\\mathbf{\\text{2. Sets and Subsets}}$<br>"
   ]
  },
  {
   "cell_type": "markdown",
   "id": "7a97f55f",
   "metadata": {},
   "source": [
    "1. If $A = \\{2, 3, 4, 5\\}$ and $B = \\{x \\in \\mathbb{N} |x \\: is\\: even\\}$. Is $A \\subset B$?"
   ]
  },
  {
   "cell_type": "markdown",
   "id": "21121097",
   "metadata": {},
   "source": [
    "By the definition of a proper subset, $B$ should have all the elements of $A$. With $B$ having an infinite natural $even$ numbers, while $A$ having an odd number which is $\\{3,5\\}$ means $B$ doesn't have all the elements of $A$. With this, we can then conclude that $A \\not\\subset B$."
   ]
  },
  {
   "cell_type": "markdown",
   "id": "581b5c54",
   "metadata": {},
   "source": [
    "2. $A = \\{x|x \\in \\mathbb{Z}, 0 \\leq x \\leq 9\\}$\n",
    "   $B = \\{2,4,6,8\\}$\n",
    "   $C = \\{1,3,5,7,9\\}$\n",
    "   $D = \\{3,4,5\\}$"
   ]
  },
  {
   "cell_type": "markdown",
   "id": "d4626386",
   "metadata": {},
   "source": [
    "Find a set $X$ that will satisfy the following conditions:"
   ]
  },
  {
   "cell_type": "markdown",
   "id": "13e34052",
   "metadata": {},
   "source": [
    "1. $X$ and $B$ are disjoint."
   ]
  },
  {
   "cell_type": "markdown",
   "id": "01f66004",
   "metadata": {},
   "source": [
    "Since $B$ are all even numbers, for it to be disjoint with $X$, then $X$ should be odd numbers: $X = \\{x \\in \\mathbb{N}|x \\: is \\: odd\\}$."
   ]
  },
  {
   "cell_type": "markdown",
   "id": "8a4e92d7",
   "metadata": {},
   "source": [
    "2. $X \\subseteq D$ but $X \\nsubseteq B$"
   ]
  },
  {
   "cell_type": "markdown",
   "id": "4a1e4949",
   "metadata": {},
   "source": [
    "By the definition of subset, every element of $X$ should also be every element of $D$. $D = \\{3,4,5\\}$ so $X = \\{3,4,5\\}$. With $X$ having an odd number, then $X \\nsubseteq B$."
   ]
  },
  {
   "cell_type": "markdown",
   "id": "74abf1d7",
   "metadata": {},
   "source": [
    "3. $X \\subseteq A$ but $X \\nsubseteq C$"
   ]
  },
  {
   "cell_type": "markdown",
   "id": "b2408e04",
   "metadata": {},
   "source": [
    "By the definition of subset, every element of $X$ should also be every element of $A$. $A = \\{x|x \\in \\mathbb{Z}, 0 \\leq x \\leq 9\\}$ so $X = \\{0,1,2,3,4,5,6,7,8,9\\}$. With $X$ having even numbers, then $X \\nsubseteq C$."
   ]
  },
  {
   "cell_type": "markdown",
   "id": "bf225a18",
   "metadata": {},
   "source": [
    "1. $X = \\{x \\in \\mathbb{N}|x \\: is \\: odd\\}$"
   ]
  },
  {
   "cell_type": "markdown",
   "id": "9a4ff317",
   "metadata": {},
   "source": [
    "2. $X = \\{3,4,5\\}$"
   ]
  },
  {
   "cell_type": "markdown",
   "id": "0bb90547",
   "metadata": {},
   "source": [
    "3. $X = \\{0,1,2,3,4,5,6,7,8,9\\}$"
   ]
  },
  {
   "cell_type": "markdown",
   "id": "f6d3ea08",
   "metadata": {},
   "source": [
    "With this, we can then conclude that $X = \\{3,5\\}$ satisfies ALL the conditions."
   ]
  }
 ],
 "metadata": {
  "kernelspec": {
   "display_name": "Python 3 (ipykernel)",
   "language": "python",
   "name": "python3"
  },
  "language_info": {
   "codemirror_mode": {
    "name": "ipython",
    "version": 3
   },
   "file_extension": ".py",
   "mimetype": "text/x-python",
   "name": "python",
   "nbconvert_exporter": "python",
   "pygments_lexer": "ipython3",
   "version": "3.11.4"
  }
 },
 "nbformat": 4,
 "nbformat_minor": 5
}
