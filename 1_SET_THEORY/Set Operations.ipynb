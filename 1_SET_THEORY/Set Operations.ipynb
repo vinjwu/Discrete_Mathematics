{
 "cells": [
  {
   "cell_type": "markdown",
   "id": "2fb70b52",
   "metadata": {},
   "source": [
    "$\\mathbf{\\text{3. Set Operations}}$<br>"
   ]
  },
  {
   "cell_type": "markdown",
   "id": "89a0fe4f",
   "metadata": {},
   "source": [
    "$U = \\{1,2,3,4,5\\}$"
   ]
  },
  {
   "cell_type": "markdown",
   "id": "b9a95602",
   "metadata": {},
   "source": [
    "$A = \\{1,2,3,4,5\\}$"
   ]
  },
  {
   "cell_type": "markdown",
   "id": "6b8591ec",
   "metadata": {},
   "source": [
    "$B = \\{4,5,6,7\\}$"
   ]
  },
  {
   "cell_type": "markdown",
   "id": "e91489f5",
   "metadata": {},
   "source": [
    "$C = \\{5,6,7,8,9\\}$"
   ]
  },
  {
   "cell_type": "markdown",
   "id": "12cc5ce3",
   "metadata": {},
   "source": [
    "$D = \\{1,3,5,7,9\\}$"
   ]
  },
  {
   "cell_type": "markdown",
   "id": "013453a4",
   "metadata": {},
   "source": [
    "$E = \\{2,4,6,8\\}$"
   ]
  },
  {
   "cell_type": "markdown",
   "id": "f4abc010",
   "metadata": {},
   "source": [
    "$F = \\{1,5,9\\}$"
   ]
  },
  {
   "cell_type": "markdown",
   "id": "b97ca09c",
   "metadata": {},
   "source": [
    "$\\bullet$ $C \\oplus D$"
   ]
  },
  {
   "cell_type": "markdown",
   "id": "e4105064",
   "metadata": {},
   "source": [
    "$C \\oplus D = \\{1,3,6,8\\}$"
   ]
  },
  {
   "cell_type": "markdown",
   "id": "271eccd7",
   "metadata": {},
   "source": [
    "$\\bullet$ $A \\backslash B$"
   ]
  },
  {
   "cell_type": "markdown",
   "id": "ebdb3e04",
   "metadata": {},
   "source": [
    "$A \\backslash B = \\{1,2,3\\}$"
   ]
  },
  {
   "cell_type": "markdown",
   "id": "db38d642",
   "metadata": {},
   "source": [
    "$\\bullet$ $B \\backslash A$"
   ]
  },
  {
   "cell_type": "markdown",
   "id": "fe839d75",
   "metadata": {},
   "source": [
    "$B \\backslash A = \\{6,7\\}$"
   ]
  },
  {
   "cell_type": "markdown",
   "id": "277fdf97",
   "metadata": {},
   "source": [
    "$\\bullet$ $E \\oplus F$"
   ]
  },
  {
   "cell_type": "markdown",
   "id": "355fa8f8",
   "metadata": {},
   "source": [
    "$E \\oplus F = \\{1,2,4,5,6,8,9\\}$"
   ]
  },
  {
   "cell_type": "code",
   "execution_count": 1,
   "id": "2affbd14",
   "metadata": {},
   "outputs": [
    {
     "name": "stdout",
     "output_type": "stream",
     "text": [
      "{1, 3, 6, 8}\n",
      "{1, 2, 3}\n",
      "{6, 7}\n",
      "{1, 2, 4, 5, 6, 8, 9}\n"
     ]
    }
   ],
   "source": [
    "U = {1,2,3,4,5}\n",
    "A = {1,2,3,4,5}\n",
    "B = {4,5,6,7}\n",
    "C = {5,6,7,8,9}\n",
    "D = {1,3,5,7,9}\n",
    "E = {2,4,6,8}\n",
    "F = {1,5,9}\n",
    "\n",
    "print(C ^ D)\n",
    "print(A - B)\n",
    "print(B - A)\n",
    "print(E ^ F)"
   ]
  }
 ],
 "metadata": {
  "kernelspec": {
   "display_name": "Python 3 (ipykernel)",
   "language": "python",
   "name": "python3"
  },
  "language_info": {
   "codemirror_mode": {
    "name": "ipython",
    "version": 3
   },
   "file_extension": ".py",
   "mimetype": "text/x-python",
   "name": "python",
   "nbconvert_exporter": "python",
   "pygments_lexer": "ipython3",
   "version": "3.11.4"
  }
 },
 "nbformat": 4,
 "nbformat_minor": 5
}
