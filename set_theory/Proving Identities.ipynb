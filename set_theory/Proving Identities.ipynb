{
 "cells": [
  {
   "cell_type": "markdown",
   "id": "91ffc7fc",
   "metadata": {},
   "source": [
    "$\\mathbf{\\text{1. Proving Identities}}$<br>"
   ]
  },
  {
   "cell_type": "markdown",
   "id": "6595698e",
   "metadata": {},
   "source": [
    "1. $A \\setminus B = A \\cap B^C$"
   ]
  },
  {
   "cell_type": "markdown",
   "id": "05a92896",
   "metadata": {},
   "source": [
    "$\\textit{Proof:}$"
   ]
  },
  {
   "cell_type": "markdown",
   "id": "de583252",
   "metadata": {},
   "source": [
    "By the definition of set difference: the set of elements which belong to A but not to B.\n",
    "For example, lets have $A = \\{1, 2, 3, 4, 5\\}$ and $B = \\{4, 5, 6, 7\\}$ so, $A \\backslash B = \\{1, 2, 3\\}$.\n",
    "By the definition of complement: set that includes all the elements of the universal set that are not present in the given set. Using the same example, let us find $A \\cap B^C$ with the formula $A - ( \\,A \\cap B) \\,$. $A = \\{1, 2, 3, 4, 5\\} - A \\cap B = \\{4, 5\\}$ which gives us the answer of $A \\cap B^C = \\{1, 2, 3\\}$. Seeing how $A \\backslash B$ and $A \\cap B^C$ are the same, we can conclude that the statement is TRUE."
   ]
  },
  {
   "cell_type": "markdown",
   "id": "6b156b72",
   "metadata": {},
   "source": [
    "2. $B = (B \\cap A) \\cup (B \\cap A^C)$"
   ]
  },
  {
   "cell_type": "markdown",
   "id": "d1e7c911",
   "metadata": {},
   "source": [
    "$\\textit{Proof:}$"
   ]
  },
  {
   "cell_type": "markdown",
   "id": "42d924bc",
   "metadata": {},
   "source": [
    "Using the same example we used in number 1, $A = \\{1, 2, 3, 4, 5\\}$ and $B = \\{4, 5, 6, 7\\}$. $B \\cap A$ just basically means elements that are common to both sets which is $B \\cap A = \\{4, 5\\}$. To find $B \\cap A^C$, we'll use the formula $B - ( \\,B \\cap A$. $B = \\{4, 5, 6, 7\\} - B \\cap A = \\{4, 5\\}$ is $B \\cap A^C = \\{6, 7\\}$. $\\cup$ means \"union\" or the combination of both sets which means $B \\cap A = \\{4, 5\\} + B \\cap A^C = \\{6, 7\\} = (B \\cap A) \\cup (B \\cap A^C) = \\{4, 5, 6, 7\\}$. Seeing how $B$ and $(B \\cap A) \\cup (B \\cap A^C)$ are the same, we can conclude that the statement is TRUE."
   ]
  },
  {
   "cell_type": "markdown",
   "id": "62b3189f",
   "metadata": {},
   "source": [
    "3. $B \\setminus A = B \\cap A^C$"
   ]
  },
  {
   "cell_type": "markdown",
   "id": "e38b7ce7",
   "metadata": {},
   "source": [
    "$\\textit{Proof:}$"
   ]
  },
  {
   "cell_type": "markdown",
   "id": "35e0c164",
   "metadata": {},
   "source": [
    "Using the same example we used in number 1, $A = \\{1, 2, 3, 4, 5\\}$ and $B = \\{4, 5, 6, 7\\}$. $B \\backslash A$ means the set that consists of the elements of B which are not elements of A so, $B \\backslash A = \\{6, 7\\}$. We have the answer to $B \\cap A^C$ from number 2 which is the same as $B \\backslash A$ so, we can conclude that the statement is TRUE."
   ]
  },
  {
   "cell_type": "markdown",
   "id": "7d595a86",
   "metadata": {},
   "source": [
    "4. $A \\cup B = A \\cup ( \\,B \\cap A^C) \\,$"
   ]
  },
  {
   "cell_type": "markdown",
   "id": "126b59a1",
   "metadata": {},
   "source": [
    "$\\textit{Proof:}$"
   ]
  },
  {
   "cell_type": "markdown",
   "id": "3e5dc392",
   "metadata": {},
   "source": [
    "Using the same example we used in number 1, $A = \\{1, 2, 3, 4, 5\\}$ and $B = \\{4, 5, 6, 7\\}$. $\\cup$ means \"union\" or combination of both sets so, $A \\cup B = \\{1, 2, 3, 4, 5, 6, 7\\}$. We have the answer to $B \\cap A^C$ from number 2 which is $B \\cap A^C = \\{6, 7\\}$. $A = \\{1, 2, 3, 4, 5\\} \\cup B \\cap A^C = \\{6, 7\\}$ is $A \\cup ( \\, B \\cap A^C) \\, = \\{1, 2, 3, 4, 5, 6, 7\\}$. Seeing how $A \\cup B$ and $A \\cup ( \\, B \\cap A^C) \\,$ are the same, we can conclude that the statement is TRUE."
   ]
  },
  {
   "cell_type": "markdown",
   "id": "97132a48",
   "metadata": {},
   "source": [
    "5. $( \\,\\bigcup_{i=1}^{\\infty} A_i^C) \\,^C = \\bigcap_{i=1}^{\\infty} A_i$"
   ]
  },
  {
   "cell_type": "markdown",
   "id": "99e531c1",
   "metadata": {},
   "source": [
    "$\\textit{Proof:}$"
   ]
  },
  {
   "cell_type": "markdown",
   "id": "fdd7e703",
   "metadata": {},
   "source": [
    "$( \\,\\bigcup_{i=1}^{\\infty} A_i^C) \\,^C$ just basically means the complement of an infinite number of union of $A^C$ so, let's have an example of a complement of a union of two $A^C$ : $( \\,A_1 \\cup A_2) \\,^C$. By the definition of complement, a set that contains the elements present in the universal set but not in set $A_1$ which means its complement is $A_2$ and vice versa. So the complement of the union of $A_1$ and $A_2$ is the remaining set which is its intersection. With the statement $\\bigcap_{i=1}^{\\infty} A_i$ which means an infinite number of intersection of A, we can conclude that the statement is TRUE."
   ]
  },
  {
   "cell_type": "markdown",
   "id": "158da5b8",
   "metadata": {},
   "source": [
    "6. $|A \\cup B| = |A| + |B| - |A \\cap B|$"
   ]
  },
  {
   "cell_type": "markdown",
   "id": "8458bb21",
   "metadata": {},
   "source": [
    "$\\textit{Proof:}$"
   ]
  },
  {
   "cell_type": "markdown",
   "id": "8d6987b8",
   "metadata": {},
   "source": [
    "Case 1: If $A$ and $B$ are disjoint"
   ]
  },
  {
   "cell_type": "markdown",
   "id": "b5a73715",
   "metadata": {},
   "source": [
    "By definition of disjoint sets, their intersection is the empty set, thus $|A \\cap B| = \\emptyset$. It follows that the cardinality of the two union of two sets is given by $|A \\cup B| = |A| + |B|$"
   ]
  },
  {
   "cell_type": "markdown",
   "id": "db9416db",
   "metadata": {},
   "source": [
    "Case 2: If $A$ and $B$ are not disjoint"
   ]
  },
  {
   "cell_type": "markdown",
   "id": "90aee06e",
   "metadata": {},
   "source": [
    "Since we will be adding the elements of $A$ and $B$, we will also be doubling the common elements thus, the need to subtract $A \\cap B$. Let's use the example we used in number 1 which is $A = \\{1, 2, 3, 4, 5\\}$ and $B = \\{4, 5, 6, 7\\}$. $A = \\{1, 2, 3, 4, 5\\} + B = \\{4, 5, 6, 7\\} = \\{1, 2, 3, 4, 4, 5, 5, 6, 7\\}$ then subtract $A \\cap B = \\{4, 5\\}$ which gives us $A \\cup B = \\{1, 2, 3, 4, 5, 6, 7\\}$. With this, we can then conclude that the statement is TRUE."
   ]
  }
 ],
 "metadata": {
  "kernelspec": {
   "display_name": "Python 3 (ipykernel)",
   "language": "python",
   "name": "python3"
  },
  "language_info": {
   "codemirror_mode": {
    "name": "ipython",
    "version": 3
   },
   "file_extension": ".py",
   "mimetype": "text/x-python",
   "name": "python",
   "nbconvert_exporter": "python",
   "pygments_lexer": "ipython3",
   "version": "3.11.4"
  }
 },
 "nbformat": 4,
 "nbformat_minor": 5
}
